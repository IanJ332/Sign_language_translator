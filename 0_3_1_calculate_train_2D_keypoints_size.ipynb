{
  "nbformat": 4,
  "nbformat_minor": 0,
  "metadata": {
    "colab": {
      "provenance": []
    },
    "kernelspec": {
      "name": "python3",
      "display_name": "Python 3"
    },
    "language_info": {
      "name": "python"
    }
  },
  "cells": [
    {
      "cell_type": "code",
      "execution_count": null,
      "metadata": {
        "colab": {
          "base_uri": "https://localhost:8080/"
        },
        "id": "4uYJkMoyPRG1",
        "outputId": "45d616ae-6bde-4cb1-d9f7-dc7de74dbe3c"
      },
      "outputs": [
        {
          "output_type": "stream",
          "name": "stdout",
          "text": [
            "Downloading train_2D_keypoints.tar.gz...\n"
          ]
        },
        {
          "output_type": "stream",
          "name": "stderr",
          "text": [
            "Downloading...\n",
            "From (original): https://drive.google.com/uc?id=1TBX7hLraMiiLucknM1mhblNVomO9-Y0r\n",
            "From (redirected): https://drive.google.com/uc?id=1TBX7hLraMiiLucknM1mhblNVomO9-Y0r&confirm=t&uuid=04ea7def-ec76-4f1d-b40e-5dd4e56997f0\n",
            "To: /content/train_2D_keypoints.tar.gz\n",
            "100%|██████████| 22.6G/22.6G [04:21<00:00, 86.5MB/s]\n"
          ]
        },
        {
          "output_type": "stream",
          "name": "stdout",
          "text": [
            "Download complete.\n",
            "\n",
            "Extracting train_2D_keypoints.tar.gz...\n",
            "Extraction complete.\n",
            "\n",
            "--- Size Calculation ---\n",
            "The total uncompressed size of the Keypoints data is: 30.75 GB\n",
            "\n",
            "Cleaning up downloaded and extracted files...\n",
            "Cleanup complete.\n"
          ]
        }
      ],
      "source": [
        "import gdown\n",
        "import tarfile\n",
        "import os\n",
        "import shutil\n",
        "\n",
        "def get_folder_size(folder_path):\n",
        "    \"\"\"Calculates the total size of a folder and its subfolders.\"\"\"\n",
        "    total_size = 0\n",
        "    for dirpath, dirnames, filenames in os.walk(folder_path):\n",
        "        for f in filenames:\n",
        "            fp = os.path.join(dirpath, f)\n",
        "            # skip if it is symbolic link\n",
        "            if not os.path.islink(fp):\n",
        "                total_size += os.path.getsize(fp)\n",
        "    # Convert size to GB\n",
        "    return total_size / (1024**3)\n",
        "\n",
        "# --- Download ---\n",
        "file_id = '1TBX7hLraMiiLucknM1mhblNVomO9-Y0r'\n",
        "output_path = 'train_2D_keypoints.tar.gz'\n",
        "url = f'https://drive.google.com/uc?id={file_id}'\n",
        "\n",
        "print(f\"Downloading {output_path}...\")\n",
        "gdown.download(url, output_path, quiet=False)\n",
        "print(\"Download complete.\")\n",
        "\n",
        "# --- Extract ---\n",
        "extract_folder = 'temp_keypoints_extraction'\n",
        "if os.path.exists(extract_folder):\n",
        "    shutil.rmtree(extract_folder)\n",
        "os.makedirs(extract_folder)\n",
        "\n",
        "print(f\"\\nExtracting {output_path}...\")\n",
        "with tarfile.open(output_path, 'r:gz') as tar:\n",
        "    tar.extractall(path=extract_folder)\n",
        "print(\"Extraction complete.\")\n",
        "\n",
        "# --- Calculate Size ---\n",
        "folder_size_gb = get_folder_size(extract_folder)\n",
        "print(\"\\n--- Size Calculation ---\")\n",
        "print(f\"The total uncompressed size of the Keypoints data is: {folder_size_gb:.2f} GB\")\n",
        "\n",
        "# --- Cleanup ---\n",
        "print(\"\\nCleaning up downloaded and extracted files...\")\n",
        "os.remove(output_path)\n",
        "shutil.rmtree(extract_folder)\n",
        "print(\"Cleanup complete.\")"
      ]
    }
  ]
}