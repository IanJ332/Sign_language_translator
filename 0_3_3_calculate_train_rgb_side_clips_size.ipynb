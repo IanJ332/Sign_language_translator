{
  "nbformat": 4,
  "nbformat_minor": 0,
  "metadata": {
    "colab": {
      "provenance": []
    },
    "kernelspec": {
      "name": "python3",
      "display_name": "Python 3"
    },
    "language_info": {
      "name": "python"
    }
  },
  "cells": [
    {
      "cell_type": "code",
      "execution_count": null,
      "metadata": {
        "id": "HXfOhbWISaHd",
        "colab": {
          "base_uri": "https://localhost:8080/"
        },
        "outputId": "b10d5e2b-20ca-49fa-99ec-c694a5f429e3"
      },
      "outputs": [
        {
          "output_type": "stream",
          "name": "stdout",
          "text": [
            "Mounting Google Drive...\n",
            "Drive already mounted at /content/drive; to attempt to forcibly remount, call drive.mount(\"/content/drive\", force_remount=True).\n",
            "Google Drive mounted successfully.\n",
            "\n",
            "Extracting /content/drive/MyDrive/train-CNN+LSTM+BO/train_rgb_side_clips.zip from your Google Drive...\n",
            "Extraction complete.\n",
            "\n",
            "--- Size Calculation ---\n",
            "The total uncompressed size of the Side View RGB data is: 21.71 GB\n"
          ]
        }
      ],
      "source": [
        "from google.colab import drive\n",
        "import zipfile\n",
        "import os\n",
        "import shutil\n",
        "\n",
        "def get_folder_size(folder_path):\n",
        "    \"\"\"Calculates the total size of a folder and its subfolders.\"\"\"\n",
        "    total_size = 0\n",
        "    for dirpath, dirnames, filenames in os.walk(folder_path):\n",
        "        for f in filenames:\n",
        "            fp = os.path.join(dirpath, f)\n",
        "            if not os.path.islink(fp):\n",
        "                total_size += os.path.getsize(fp)\n",
        "    # Convert size to GB\n",
        "    return total_size / (1024**3)\n",
        "\n",
        "# --- Mount Google Drive ---\n",
        "print(\"Mounting Google Drive...\")\n",
        "drive.mount('/content/drive')\n",
        "print(\"Google Drive mounted successfully.\")\n",
        "\n",
        "# --- Define Paths ---\n",
        "# Path to the zip file inside your Google Drive\n",
        "drive_zip_path = '/content/drive/MyDrive/train-CNN+LSTM+BO/train_rgb_side_clips.zip'\n",
        "extract_folder = 'temp_side_view_extraction'\n",
        "\n",
        "# --- Extract ---\n",
        "if os.path.exists(extract_folder):\n",
        "    shutil.rmtree(extract_folder)\n",
        "os.makedirs(extract_folder)\n",
        "\n",
        "print(f\"\\nExtracting {drive_zip_path} from your Google Drive...\")\n",
        "if os.path.exists(drive_zip_path):\n",
        "    with zipfile.ZipFile(drive_zip_path, 'r') as zip_ref:\n",
        "        zip_ref.extractall(extract_folder)\n",
        "    print(\"Extraction complete.\")\n",
        "\n",
        "    # --- Calculate Size ---\n",
        "    folder_size_gb = get_folder_size(extract_folder)\n",
        "    print(\"\\n--- Size Calculation ---\")\n",
        "    print(f\"The total uncompressed size of the Side View RGB data is: {folder_size_gb:.2f} GB\")\n",
        "\n",
        "#     # --- Cleanup ---\n",
        "#     print(\"\\nCleaning up extracted files...\")\n",
        "#     shutil.rmtree(extract_folder)\n",
        "#     print(\"Cleanup complete.\")\n",
        "# else:\n",
        "#     print(f\"\\nERROR: File not found at '{drive_zip_path}'.\")\n",
        "#     print(\"Please ensure the folder and file names are correct in your Google Drive.\")"
      ]
    }
  ]
}