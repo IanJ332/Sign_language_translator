{
  "cells": [
    {
      "cell_type": "code",
      "execution_count": null,
      "metadata": {
        "colab": {
          "base_uri": "https://localhost:8080/"
        },
        "id": "5DkXw3yVXAt4",
        "outputId": "9f6b54b5-d820-4f16-8bda-101f63654420"
      },
      "outputs": [
        {
          "name": "stdout",
          "output_type": "stream",
          "text": [
            "Mounting Google Drive...\n",
            "Mounted at /content/drive\n",
            "Google Drive mounted successfully.\n",
            "\n",
            "Attempting to extract /content/drive/MyDrive/train-CNN+LSTM+BO/train_2D_keypoints.tar.gz...\n",
            "Extraction complete.\n",
            "\n",
            "Verification: Here are some of the first items in 'full_train_keypoints':\n",
            "  - openpose_output\n"
          ]
        }
      ],
      "source": [
        "from google.colab import drive\n",
        "import tarfile\n",
        "import os\n",
        "import shutil\n",
        "\n",
        "# --- Mount Google Drive ---\n",
        "print(\"Mounting Google Drive...\")\n",
        "drive.mount('/content/drive')\n",
        "print(\"Google Drive mounted successfully.\")\n",
        "\n",
        "# --- Define Paths ---\n",
        "# This path points to the file inside the folder you showed in the screenshot\n",
        "drive_tar_path = '/content/drive/MyDrive/train-CNN+LSTM+BO/train_2D_keypoints.tar.gz'\n",
        "extract_folder = 'full_train_keypoints'\n",
        "\n",
        "# --- Extract ---\n",
        "# Ensure the extraction folder is clean before starting\n",
        "if os.path.exists(extract_folder):\n",
        "    shutil.rmtree(extract_folder)\n",
        "os.makedirs(extract_folder)\n",
        "\n",
        "print(f\"\\nAttempting to extract {drive_tar_path}...\")\n",
        "\n",
        "# Check if the file exists at the specified path before trying to extract\n",
        "if os.path.exists(drive_tar_path):\n",
        "    try:\n",
        "        with tarfile.open(drive_tar_path, 'r:gz') as tar:\n",
        "            tar.extractall(path=extract_folder)\n",
        "        print(\"Extraction complete.\")\n",
        "\n",
        "        # Verify by listing some of the extracted contents\n",
        "        print(f\"\\nVerification: Here are some of the first items in '{extract_folder}':\")\n",
        "        extracted_contents = os.listdir(extract_folder)\n",
        "        for item in extracted_contents[:5]:\n",
        "            print(f\"  - {item}\")\n",
        "\n",
        "    except Exception as e:\n",
        "        print(f\"An error occurred during extraction: {e}\")\n",
        "else:\n",
        "    print(f\"ERROR: File not found at '{drive_tar_path}'.\")\n",
        "    print(\"Please double-check the folder and file names in your Google Drive.\")"
      ]
    },
    {
      "cell_type": "code",
      "execution_count": null,
      "metadata": {
        "colab": {
          "base_uri": "https://localhost:8080/"
        },
        "id": "gR_Hy-nahEz0",
        "outputId": "918ff5ac-03ee-447f-dc63-f00103961412"
      },
      "outputs": [
        {
          "name": "stdout",
          "output_type": "stream",
          "text": [
            "Mounting Google Drive...\n",
            "Drive already mounted at /content/drive; to attempt to forcibly remount, call drive.mount(\"/content/drive\", force_remount=True).\n",
            "Google Drive mounted successfully.\n",
            "\n",
            "Attempting to extract /content/drive/MyDrive/train-CNN+LSTM+BO/val_2D_keypoints.tar.gz...\n",
            "Extraction complete.\n",
            "\n",
            "Verification: Here are some of the first items in 'full_validation_keypoints':\n",
            "  - openpose_output\n"
          ]
        }
      ],
      "source": [
        "from google.colab import drive\n",
        "import tarfile\n",
        "import os\n",
        "import shutil\n",
        "\n",
        "# --- Mount Google Drive ---\n",
        "print(\"Mounting Google Drive...\")\n",
        "drive.mount('/content/drive')\n",
        "print(\"Google Drive mounted successfully.\")\n",
        "\n",
        "# --- Define Paths ---\n",
        "drive_tar_path = '/content/drive/MyDrive/train-CNN+LSTM+BO/val_2D_keypoints.tar.gz'\n",
        "# --- THIS IS THE FIX ---\n",
        "extract_folder = 'full_validation_keypoints' # Corrected folder name\n",
        "\n",
        "# --- Extract ---\n",
        "if os.path.exists(extract_folder):\n",
        "    shutil.rmtree(extract_folder)\n",
        "os.makedirs(extract_folder)\n",
        "\n",
        "print(f\"\\nAttempting to extract {drive_tar_path}...\")\n",
        "\n",
        "if os.path.exists(drive_tar_path):\n",
        "    try:\n",
        "        with tarfile.open(drive_tar_path, 'r:gz') as tar:\n",
        "            tar.extractall(path=extract_folder)\n",
        "        print(\"Extraction complete.\")\n",
        "\n",
        "        print(f\"\\nVerification: Here are some of the first items in '{extract_folder}':\")\n",
        "        extracted_contents = os.listdir(extract_folder)\n",
        "        for item in extracted_contents[:5]:\n",
        "            print(f\"  - {item}\")\n",
        "\n",
        "    except Exception as e:\n",
        "        print(f\"An error occurred during extraction: {e}\")\n",
        "else:\n",
        "    print(f\"ERROR: File not found at '{drive_tar_path}'.\")"
      ]
    },
    {
      "cell_type": "code",
      "execution_count": null,
      "metadata": {
        "colab": {
          "base_uri": "https://localhost:8080/"
        },
        "id": "-X-C9w8jxJiy",
        "outputId": "57872743-a843-4779-d493-6c5ad442e19c"
      },
      "outputs": [
        {
          "name": "stdout",
          "output_type": "stream",
          "text": [
            "Processing TRAIN dataset using train labels...\n",
            "Processing VALIDATION dataset using validation labels...\n",
            "\n",
            "--- Step 1.1 Complete: Data Preprocessing ---\n",
            "This is the key output for your report.\n",
            "Shape of X_train (landmarks): (31047, 30, 274)\n",
            "Shape of y_train (labels): (31047, 31492)\n",
            "Shape of X_val (landmarks): (1739, 30, 274)\n",
            "Shape of y_val (labels): (1739, 31439)\n",
            "\n",
            "Explanation of X_train shape (samples, timesteps, features):\n",
            "  - 31047 samples (sign language video clips)\n",
            "  - 30 timesteps (frames per clip, standardized)\n",
            "  - 274 features (concatenated X,Y coordinates for all keypoints)\n"
          ]
        }
      ],
      "source": [
        "import json\n",
        "import numpy as np\n",
        "import os\n",
        "import pandas as pd\n",
        "from tensorflow.keras.preprocessing.sequence import pad_sequences\n",
        "from sklearn.preprocessing import LabelEncoder\n",
        "from tensorflow.keras.utils import to_categorical\n",
        "\n",
        "# --- Parameters & Setup ---\n",
        "MAX_FRAMES = 30\n",
        "TRAIN_DATA_FOLDER = 'full_train_keypoints/openpose_output/json'\n",
        "VAL_DATA_FOLDER = 'full_validation_keypoints/openpose_output/json'\n",
        "TRAIN_LABELS_CSV = 'how2sign_realigned_train.csv'\n",
        "VAL_LABELS_CSV = 'how2sign_realigned_val.csv'\n",
        "\n",
        "# --- Load the separate CSV files ---\n",
        "try:\n",
        "    train_labels_df = pd.read_csv(TRAIN_LABELS_CSV, sep='\\t')\n",
        "    val_labels_df = pd.read_csv(VAL_LABELS_CSV, sep='\\t')\n",
        "\n",
        "    # Create specific label maps for each dataset\n",
        "    train_label_map = pd.Series(train_labels_df.SENTENCE.values, index=train_labels_df.SENTENCE_NAME).to_dict()\n",
        "    val_label_map = pd.Series(val_labels_df.SENTENCE.values, index=val_labels_df.SENTENCE_NAME).to_dict()\n",
        "except FileNotFoundError as e:\n",
        "    print(f\"ERROR: A label file was not found. Please check filenames. Details: {e}\")\n",
        "    exit()\n",
        "\n",
        "# --- Reusable Data Processing Functions ---\n",
        "def load_and_process_keypoints(sequence_path):\n",
        "    json_files = sorted([os.path.join(sequence_path, f) for f in os.listdir(sequence_path) if f.endswith('.json')])\n",
        "    sequence_data = []\n",
        "    for file_path in json_files:\n",
        "        with open(file_path, 'r') as f:\n",
        "            data = json.load(f)\n",
        "        if not data['people']: continue\n",
        "        person = data['people'][0]\n",
        "        pose_kps = np.array(person['pose_keypoints_2d']).reshape(-1, 3)[:, :2].flatten()\n",
        "        face_kps = np.array(person['face_keypoints_2d']).reshape(-1, 3)[:, :2].flatten()\n",
        "        hand_left_kps = np.array(person['hand_left_keypoints_2d']).reshape(-1, 3)[:, :2].flatten()\n",
        "        hand_right_kps = np.array(person['hand_right_keypoints_2d']).reshape(-1, 3)[:, :2].flatten()\n",
        "        frame_features = np.concatenate([pose_kps, face_kps, hand_left_kps, hand_right_kps])\n",
        "        sequence_data.append(frame_features)\n",
        "    return np.array(sequence_data)\n",
        "\n",
        "def create_dataset(data_folder, label_map, max_frames):\n",
        "    X, y = [], []\n",
        "    sequence_folders = [f for f in os.listdir(data_folder) if os.path.isdir(os.path.join(data_folder, f))]\n",
        "\n",
        "    for seq_folder in sequence_folders:\n",
        "        if seq_folder in label_map:\n",
        "            keypoints = load_and_process_keypoints(os.path.join(data_folder, seq_folder))\n",
        "            if keypoints.size == 0: continue\n",
        "\n",
        "            if len(keypoints) > max_frames:\n",
        "                keypoints = keypoints[:max_frames]\n",
        "            elif len(keypoints) < max_frames:\n",
        "                padding_needed = max_frames - len(keypoints)\n",
        "                keypoints = np.pad(keypoints, ((0, padding_needed), (0, 0)), mode='constant')\n",
        "\n",
        "            X.append(keypoints)\n",
        "            y.append(label_map[seq_folder])\n",
        "\n",
        "    return np.array(X, dtype='float32'), np.array(y)\n",
        "\n",
        "# --- Process TRAIN and VALIDATION data using their respective label files ---\n",
        "print(\"Processing TRAIN dataset using train labels...\")\n",
        "X_train, y_train_text = create_dataset(TRAIN_DATA_FOLDER, train_label_map, MAX_FRAMES)\n",
        "\n",
        "print(\"Processing VALIDATION dataset using validation labels...\")\n",
        "X_val, y_val_text = create_dataset(VAL_DATA_FOLDER, val_label_map, MAX_FRAMES)\n",
        "\n",
        "# --- Encode Labels ---\n",
        "all_labels = np.concatenate([y_train_text, y_val_text])\n",
        "label_encoder = LabelEncoder()\n",
        "label_encoder.fit(all_labels)\n",
        "\n",
        "y_train_int = label_encoder.transform(y_train_text)\n",
        "y_val_int = label_encoder.transform(y_val_text)\n",
        "\n",
        "y_train = to_categorical(y_train_int)\n",
        "y_val = to_categorical(y_val_int)\n",
        "\n",
        "# --- Final Output ---\n",
        "print(\"\\n--- Step 1.1 Complete: Data Preprocessing ---\")\n",
        "print(\"This is the key output for your report.\")\n",
        "print(f\"Shape of X_train (landmarks): {X_train.shape}\")\n",
        "print(f\"Shape of y_train (labels): {y_train.shape}\")\n",
        "print(f\"Shape of X_val (landmarks): {X_val.shape}\")\n",
        "print(f\"Shape of y_val (labels): {y_val.shape}\")\n",
        "print(f\"\\nExplanation of X_train shape (samples, timesteps, features):\")\n",
        "print(f\"  - {X_train.shape[0]} samples (sign language video clips)\")\n",
        "print(f\"  - {X_train.shape[1]} timesteps (frames per clip, standardized)\")\n",
        "print(f\"  - {X_train.shape[2]} features (concatenated X,Y coordinates for all keypoints)\")"
      ]
    },
    {
      "cell_type": "code",
      "execution_count": null,
      "metadata": {
        "colab": {
          "base_uri": "https://localhost:8080/"
        },
        "id": "0o7yzD5CzLWs",
        "outputId": "17812197-7b6b-438a-977d-c8fec30d122b"
      },
      "outputs": [
        {
          "name": "stdout",
          "output_type": "stream",
          "text": [
            "Total unique classes found across all data: 31492\n",
            "\n",
            "--- Verification of Corrected Shapes ---\n",
            "Shape of X_train (landmarks): (31047, 30, 274)\n",
            "Shape of y_train (labels): (31047, 31492)\n",
            "Shape of X_val (landmarks): (1739, 30, 274)\n",
            "Shape of y_val (labels): (1739, 31492)\n"
          ]
        }
      ],
      "source": [
        "from sklearn.preprocessing import LabelEncoder\n",
        "from tensorflow.keras.utils import to_categorical\n",
        "import numpy as np\n",
        "\n",
        "# This code assumes y_train_text and y_val_text exist from the previous run\n",
        "\n",
        "# --- Corrected Encode Labels ---\n",
        "all_labels = np.concatenate([y_train_text, y_val_text])\n",
        "label_encoder = LabelEncoder()\n",
        "label_encoder.fit(all_labels)\n",
        "\n",
        "# Get the total number of unique classes\n",
        "num_total_classes = len(label_encoder.classes_)\n",
        "print(f\"Total unique classes found across all data: {num_total_classes}\")\n",
        "\n",
        "y_train_int = label_encoder.transform(y_train_text)\n",
        "y_val_int = label_encoder.transform(y_val_text)\n",
        "\n",
        "# Explicitly provide the number of classes to ensure shapes match\n",
        "y_train = to_categorical(y_train_int, num_classes=num_total_classes)\n",
        "y_val = to_categorical(y_val_int, num_classes=num_total_classes)\n",
        "\n",
        "# --- Verify Final Shapes ---\n",
        "print(\"\\n--- Verification of Corrected Shapes ---\")\n",
        "print(f\"Shape of X_train (landmarks): {X_train.shape}\")\n",
        "print(f\"Shape of y_train (labels): {y_train.shape}\")\n",
        "print(f\"Shape of X_val (landmarks): {X_val.shape}\")\n",
        "print(f\"Shape of y_val (labels): {y_val.shape}\")"
      ]
    },
    {
      "cell_type": "code",
      "execution_count": null,
      "metadata": {
        "colab": {
          "base_uri": "https://localhost:8080/",
          "height": 949
        },
        "id": "cngdp_CqzVO0",
        "outputId": "4abb29fa-df27-4cbf-ac5c-b4e1618fa065"
      },
      "outputs": [
        {
          "name": "stderr",
          "output_type": "stream",
          "text": [
            "/usr/local/lib/python3.11/dist-packages/keras/src/layers/rnn/rnn.py:200: UserWarning: Do not pass an `input_shape`/`input_dim` argument to a layer. When using Sequential models, prefer using an `Input(shape)` object as the first layer in the model instead.\n",
            "  super().__init__(**kwargs)\n"
          ]
        },
        {
          "name": "stdout",
          "output_type": "stream",
          "text": [
            "--- Baseline LSTM Model Architecture ---\n"
          ]
        },
        {
          "data": {
            "text/html": [
              "<pre style=\"white-space:pre;overflow-x:auto;line-height:normal;font-family:Menlo,'DejaVu Sans Mono',consolas,'Courier New',monospace\"><span style=\"font-weight: bold\">Model: \"sequential\"</span>\n",
              "</pre>\n"
            ],
            "text/plain": [
              "\u001b[1mModel: \"sequential\"\u001b[0m\n"
            ]
          },
          "metadata": {},
          "output_type": "display_data"
        },
        {
          "data": {
            "text/html": [
              "<pre style=\"white-space:pre;overflow-x:auto;line-height:normal;font-family:Menlo,'DejaVu Sans Mono',consolas,'Courier New',monospace\">┏━━━━━━━━━━━━━━━━━━━━━━━━━━━━━━━━━┳━━━━━━━━━━━━━━━━━━━━━━━━┳━━━━━━━━━━━━━━━┓\n",
              "┃<span style=\"font-weight: bold\"> Layer (type)                    </span>┃<span style=\"font-weight: bold\"> Output Shape           </span>┃<span style=\"font-weight: bold\">       Param # </span>┃\n",
              "┡━━━━━━━━━━━━━━━━━━━━━━━━━━━━━━━━━╇━━━━━━━━━━━━━━━━━━━━━━━━╇━━━━━━━━━━━━━━━┩\n",
              "│ lstm (<span style=\"color: #0087ff; text-decoration-color: #0087ff\">LSTM</span>)                     │ (<span style=\"color: #00d7ff; text-decoration-color: #00d7ff\">None</span>, <span style=\"color: #00af00; text-decoration-color: #00af00\">30</span>, <span style=\"color: #00af00; text-decoration-color: #00af00\">64</span>)         │        <span style=\"color: #00af00; text-decoration-color: #00af00\">86,784</span> │\n",
              "├─────────────────────────────────┼────────────────────────┼───────────────┤\n",
              "│ dropout (<span style=\"color: #0087ff; text-decoration-color: #0087ff\">Dropout</span>)               │ (<span style=\"color: #00d7ff; text-decoration-color: #00d7ff\">None</span>, <span style=\"color: #00af00; text-decoration-color: #00af00\">30</span>, <span style=\"color: #00af00; text-decoration-color: #00af00\">64</span>)         │             <span style=\"color: #00af00; text-decoration-color: #00af00\">0</span> │\n",
              "├─────────────────────────────────┼────────────────────────┼───────────────┤\n",
              "│ lstm_1 (<span style=\"color: #0087ff; text-decoration-color: #0087ff\">LSTM</span>)                   │ (<span style=\"color: #00d7ff; text-decoration-color: #00d7ff\">None</span>, <span style=\"color: #00af00; text-decoration-color: #00af00\">64</span>)             │        <span style=\"color: #00af00; text-decoration-color: #00af00\">33,024</span> │\n",
              "├─────────────────────────────────┼────────────────────────┼───────────────┤\n",
              "│ dropout_1 (<span style=\"color: #0087ff; text-decoration-color: #0087ff\">Dropout</span>)             │ (<span style=\"color: #00d7ff; text-decoration-color: #00d7ff\">None</span>, <span style=\"color: #00af00; text-decoration-color: #00af00\">64</span>)             │             <span style=\"color: #00af00; text-decoration-color: #00af00\">0</span> │\n",
              "├─────────────────────────────────┼────────────────────────┼───────────────┤\n",
              "│ dense (<span style=\"color: #0087ff; text-decoration-color: #0087ff\">Dense</span>)                   │ (<span style=\"color: #00d7ff; text-decoration-color: #00d7ff\">None</span>, <span style=\"color: #00af00; text-decoration-color: #00af00\">32</span>)             │         <span style=\"color: #00af00; text-decoration-color: #00af00\">2,080</span> │\n",
              "├─────────────────────────────────┼────────────────────────┼───────────────┤\n",
              "│ dense_1 (<span style=\"color: #0087ff; text-decoration-color: #0087ff\">Dense</span>)                 │ (<span style=\"color: #00d7ff; text-decoration-color: #00d7ff\">None</span>, <span style=\"color: #00af00; text-decoration-color: #00af00\">31492</span>)          │     <span style=\"color: #00af00; text-decoration-color: #00af00\">1,039,236</span> │\n",
              "└─────────────────────────────────┴────────────────────────┴───────────────┘\n",
              "</pre>\n"
            ],
            "text/plain": [
              "┏━━━━━━━━━━━━━━━━━━━━━━━━━━━━━━━━━┳━━━━━━━━━━━━━━━━━━━━━━━━┳━━━━━━━━━━━━━━━┓\n",
              "┃\u001b[1m \u001b[0m\u001b[1mLayer (type)                   \u001b[0m\u001b[1m \u001b[0m┃\u001b[1m \u001b[0m\u001b[1mOutput Shape          \u001b[0m\u001b[1m \u001b[0m┃\u001b[1m \u001b[0m\u001b[1m      Param #\u001b[0m\u001b[1m \u001b[0m┃\n",
              "┡━━━━━━━━━━━━━━━━━━━━━━━━━━━━━━━━━╇━━━━━━━━━━━━━━━━━━━━━━━━╇━━━━━━━━━━━━━━━┩\n",
              "│ lstm (\u001b[38;5;33mLSTM\u001b[0m)                     │ (\u001b[38;5;45mNone\u001b[0m, \u001b[38;5;34m30\u001b[0m, \u001b[38;5;34m64\u001b[0m)         │        \u001b[38;5;34m86,784\u001b[0m │\n",
              "├─────────────────────────────────┼────────────────────────┼───────────────┤\n",
              "│ dropout (\u001b[38;5;33mDropout\u001b[0m)               │ (\u001b[38;5;45mNone\u001b[0m, \u001b[38;5;34m30\u001b[0m, \u001b[38;5;34m64\u001b[0m)         │             \u001b[38;5;34m0\u001b[0m │\n",
              "├─────────────────────────────────┼────────────────────────┼───────────────┤\n",
              "│ lstm_1 (\u001b[38;5;33mLSTM\u001b[0m)                   │ (\u001b[38;5;45mNone\u001b[0m, \u001b[38;5;34m64\u001b[0m)             │        \u001b[38;5;34m33,024\u001b[0m │\n",
              "├─────────────────────────────────┼────────────────────────┼───────────────┤\n",
              "│ dropout_1 (\u001b[38;5;33mDropout\u001b[0m)             │ (\u001b[38;5;45mNone\u001b[0m, \u001b[38;5;34m64\u001b[0m)             │             \u001b[38;5;34m0\u001b[0m │\n",
              "├─────────────────────────────────┼────────────────────────┼───────────────┤\n",
              "│ dense (\u001b[38;5;33mDense\u001b[0m)                   │ (\u001b[38;5;45mNone\u001b[0m, \u001b[38;5;34m32\u001b[0m)             │         \u001b[38;5;34m2,080\u001b[0m │\n",
              "├─────────────────────────────────┼────────────────────────┼───────────────┤\n",
              "│ dense_1 (\u001b[38;5;33mDense\u001b[0m)                 │ (\u001b[38;5;45mNone\u001b[0m, \u001b[38;5;34m31492\u001b[0m)          │     \u001b[38;5;34m1,039,236\u001b[0m │\n",
              "└─────────────────────────────────┴────────────────────────┴───────────────┘\n"
            ]
          },
          "metadata": {},
          "output_type": "display_data"
        },
        {
          "data": {
            "text/html": [
              "<pre style=\"white-space:pre;overflow-x:auto;line-height:normal;font-family:Menlo,'DejaVu Sans Mono',consolas,'Courier New',monospace\"><span style=\"font-weight: bold\"> Total params: </span><span style=\"color: #00af00; text-decoration-color: #00af00\">1,161,124</span> (4.43 MB)\n",
              "</pre>\n"
            ],
            "text/plain": [
              "\u001b[1m Total params: \u001b[0m\u001b[38;5;34m1,161,124\u001b[0m (4.43 MB)\n"
            ]
          },
          "metadata": {},
          "output_type": "display_data"
        },
        {
          "data": {
            "text/html": [
              "<pre style=\"white-space:pre;overflow-x:auto;line-height:normal;font-family:Menlo,'DejaVu Sans Mono',consolas,'Courier New',monospace\"><span style=\"font-weight: bold\"> Trainable params: </span><span style=\"color: #00af00; text-decoration-color: #00af00\">1,161,124</span> (4.43 MB)\n",
              "</pre>\n"
            ],
            "text/plain": [
              "\u001b[1m Trainable params: \u001b[0m\u001b[38;5;34m1,161,124\u001b[0m (4.43 MB)\n"
            ]
          },
          "metadata": {},
          "output_type": "display_data"
        },
        {
          "data": {
            "text/html": [
              "<pre style=\"white-space:pre;overflow-x:auto;line-height:normal;font-family:Menlo,'DejaVu Sans Mono',consolas,'Courier New',monospace\"><span style=\"font-weight: bold\"> Non-trainable params: </span><span style=\"color: #00af00; text-decoration-color: #00af00\">0</span> (0.00 B)\n",
              "</pre>\n"
            ],
            "text/plain": [
              "\u001b[1m Non-trainable params: \u001b[0m\u001b[38;5;34m0\u001b[0m (0.00 B)\n"
            ]
          },
          "metadata": {},
          "output_type": "display_data"
        },
        {
          "name": "stdout",
          "output_type": "stream",
          "text": [
            "\n",
            "--- Starting Official Baseline Model Training ---\n",
            "Epoch 1/50\n",
            "\u001b[1m970/971\u001b[0m \u001b[32m━━━━━━━━━━━━━━━━━━━\u001b[0m\u001b[37m━\u001b[0m \u001b[1m0s\u001b[0m 29ms/step - accuracy: 0.0025 - loss: 10.3593\n",
            "Epoch 1: val_accuracy improved from -inf to 0.00173, saving model to lstm_baseline_model.h5\n"
          ]
        },
        {
          "name": "stderr",
          "output_type": "stream",
          "text": [
            "WARNING:absl:You are saving your model as an HDF5 file via `model.save()` or `keras.saving.save_model(model)`. This file format is considered legacy. We recommend using instead the native Keras format, e.g. `model.save('my_model.keras')` or `keras.saving.save_model(model, 'my_model.keras')`. \n"
          ]
        },
        {
          "name": "stdout",
          "output_type": "stream",
          "text": [
            "\b\b\b\b\b\b\b\b\b\b\b\b\b\b\b\b\b\b\b\b\b\b\b\b\b\b\b\b\b\b\b\b\b\b\b\b\b\b\b\b\b\b\b\b\b\b\b\b\b\b\b\b\b\b\b\b\b\b\b\b\b\b\b\b\b\b\b\b\b\b\b\b\b\b\b\b\r\u001b[1m971/971\u001b[0m \u001b[32m━━━━━━━━━━━━━━━━━━━━\u001b[0m\u001b[37m\u001b[0m \u001b[1m34s\u001b[0m 31ms/step - accuracy: 0.0029 - loss: 9.0021 - val_accuracy: 0.0011 - val_loss: 10.2886\n",
            "Epoch 1: val_accuracy improved to 0.00107, saving model to lstm_baseline_model.h5\n",
            "WARNING:absl:You are saving your model as an HDF5 file via `model.save()` or `keras.saving.save_model(model)`. This file format is considered legacy. We recommend using instead the native Keras format, e.g. `model.save('my_model.keras')` or `keras.saving.save_model(model, 'my_model.keras').\n",
            "\n",
            "Epoch 2/50\n",
            "\u001b[1m970/971\u001b[0m \u001b[32m━━━━━━━━━━━━━━━━━━━\u001b[0m\u001b[37m━\u001b[0m \u001b[1m0s\u001b[0m 58ms/step - accuracy: 0.0029 - loss: 8.7426\n",
            "Epoch 2: val_accuracy improved to 0.00284, saving model to lstm_baseline_model.h5\n",
            "\u001b[1m971/971\u001b[0m \u001b[32m━━━━━━━━━━━━━━━━━━━━\u001b[0m\u001b[37m\u001b[0m \u001b[1m58s\u001b[0m 59ms/step - accuracy: 0.0029 - loss: 8.7426 - val_accuracy: 0.0028 - val_loss: 10.6050\n",
            "Epoch 3/50\n",
            "\u001b[1m970/971\u001b[0m \u001b[32m━━━━━━━━━━━━━━━━━━━\u001b[0m\u001b[37m━\u001b[0m \u001b[1m0s\u001b[0m 31ms/step - accuracy: 0.0028 - loss: 9.9894\n",
            "Epoch 3: val_accuracy did not improve from 0.00284 (epochs without improvement: 1)\n",
            "\u001b[1m971/971\u001b[0m \u001b[32m━━━━━━━━━━━━━━━━━━━━\u001b[0m\u001b[37m\u001b[0m \u001b[1m31s\u001b[0m 31ms/step - accuracy: 0.0028 - loss: 9.9894 - val_accuracy: 0.0017 - val_loss: 10.9230\n",
            "Epoch 4/50\n",
            "\u001b[1m969/971\u001b[0m \u001b[32m━━━━━━━━━━━━━━━━━━━\u001b[0m\u001b[37m━\u001b[0m \u001b[1m0s\u001b[0m 27ms/step - accuracy: 0.0040 - loss: 9.8776\n",
            "Epoch 4: val_accuracy improved to 0.00327, saving model to lstm_baseline_model.h5\n",
            "\u001b[1m971/971\u001b[0m \u001b[32m━━━━━━━━━━━━━━━━━━━━\u001b[0m\u001b[37m\u001b[0m \u001b[1m26s\u001b[0m 27ms/step - accuracy: 0.0040 - loss: 9.8776 - val_accuracy: 0.0033 - val_loss: 10.5393\n",
            "Epoch 5/50\n",
            "\u001b[1m970/971\u001b[0m \u001b[32m━━━━━━━━━━━━━━━━━━━\u001b[0m\u001b[37m━\u001b[0m \u001b[1m0s\u001b[0m 27ms/step - accuracy: 0.0037 - loss: 10.0585\n",
            "Epoch 5: val_accuracy did not improve from 0.00327 (epochs without improvement: 1)\n",
            "\u001b[1m971/971\u001b[0m \u001b[32m━━━━━━━━━━━━━━━━━━━━\u001b[0m\u001b[37m\u001b[0m \u001b[1m27s\u001b[0m 28ms/step - accuracy: 0.0037 - loss: 10.0585 - val_accuracy: 0.0027 - val_loss: 9.7668\n",
            "Epoch 6/50\n",
            "\u001b[1m969/971\u001b[0m \u001b[32m━━━━━━━━━━━━━━━━━━━\u001b[0m\u001b[37m━\u001b[0m \u001b[1m0s\u001b[0m 26ms/step - accuracy: 0.0031 - loss: 9.9849\n",
            "Epoch 6: val_accuracy improved to 0.00387, saving model to lstm_baseline_model.h5\n",
            "\u001b[1m971/971\u001b[0m \u001b[32m━━━━━━━━━━━━━━━━━━━━\u001b[0m\u001b[37m\u001b[0m \u001b[1m26s\u001b[0m 27ms/step - accuracy: 0.0031 - loss: 9.9849 - val_accuracy: 0.0039 - val_loss: 9.7310\n",
            "Epoch 7/50\n",
            "\u001b[1m969/971\u001b[0m \u001b[32m━━━━━━━━━━━━━━━━━━━\u001b[0m\u001b[37m━\u001b[0m \u001b[1m0s\u001b[0m 26ms/step - accuracy: 0.0043 - loss: 9.6181\n",
            "Epoch 7: val_accuracy did not improve from 0.00387 (epochs without improvement: 1)\n",
            "\u001b[1m971/971\u001b[0m \u001b[32m━━━━━━━━━━━━━━━━━━━━\u001b[0m\u001b[37m\u001b[0m \u001b[1m26s\u001b[0m 27ms/step - accuracy: 0.0043 - loss: 9.6181 - val_accuracy: 0.0016 - val_loss: 10.9754\n",
            "Epoch 8/50\n",
            "\u001b[1m969/971\u001b[0m \u001b[32m━━━━━━━━━━━━━━━━━━━\u001b[0m\u001b[37m━\u001b[0m \u001b[1m0s\u001b[0m 26ms/step - accuracy: 0.0020 - loss: 8.0633\n",
            "Epoch 8: val_accuracy did not improve from 0.00387 (epochs without improvement: 2)\n",
            "\u001b[1m971/971\u001b[0m \u001b[32m━━━━━━━━━━━━━━━━━━━━\u001b[0m\u001b[37m\u001b[0m \u001b[1m26s\u001b[0m 27ms/step - accuracy: 0.0020 - loss: 8.0633 - val_accuracy: 0.0038 - val_loss: 10.2419\n",
            "Epoch 9/50\n",
            "\u001b[1m969/971\u001b[0m \u001b[32m━━━━━━━━━━━━━━━━━━━\u001b[0m\u001b[37m━\u001b[0m \u001b[1m0s\u001b[0m 26ms/step - accuracy: 0.0033 - loss: 8.6548\n",
            "Epoch 9: val_accuracy did not improve from 0.00387 (epochs without improvement: 3)\n",
            "\u001b[1m971/971\u001b[0m \u001b[32m━━━━━━━━━━━━━━━━━━━━\u001b[0m\u001b[37m\u001b[0m \u001b[1m26s\u001b[0m 27ms/step - accuracy: 0.0033 - loss: 8.6548 - val_accuracy: 0.0039 - val_loss: 9.9844\n",
            "Epoch 10/50\n",
            "\u001b[1m969/971\u001b[0m \u001b[32m━━━━━━━━━━━━━━━━━━━\u001b[0m\u001b[37m━\u001b[0m \u001b[1m0s\u001b[0m 26ms/step - accuracy: 0.0037 - loss: 9.7576\n",
            "Epoch 10: val_accuracy did not improve from 0.00387 (epochs without improvement: 4)\n",
            "\u001b[1m971/971\u001b[0m \u001b[32m━━━━━━━━━━━━━━━━━━━━\u001b[0m\u001b[37m\u001b[0m \u001b[1m26s\u001b[0m 27ms/step - accuracy: 0.0037 - loss: 9.7576 - val_accuracy: 0.0025 - val_loss: 9.5514\n",
            "Epoch 11/50\n",
            "\u001b[1m969/971\u001b[0m \u001b[32m━━━━━━━━━━━━━━━━━━━\u001b[0m\u001b[37m━\u001b[0m \u001b[1m0s\u001b[0m 26ms/step - accuracy: 0.0049 - loss: 8.9643\n",
            "Epoch 11: val_accuracy did not improve from 0.00387 (epochs without improvement: 5)\n",
            "\u001b[1m971/971\u001b[0m \u001b[32m━━━━━━━━━━━━━━━━━━━━\u001b[0m\u001b[37m\u001b[0m \u001b[1m26s\u001b[0m 27ms/step - accuracy: 0.0049 - loss: 8.9643 - val_accuracy: 0.0034 - val_loss: 10.2548\n",
            "Epoch 12/50\n",
            "\u001b[1m969/971\u001b[0m \u001b[32m━━━━━━━━━━━━━━━━━━━\u001b[0m\u001b[37m━\u001b[0m \u001b[1m0s\u001b[0m 26ms/step - accuracy: 0.0033 - loss: 9.6685\n",
            "Epoch 12: val_accuracy did not improve from 0.00387 (epochs without improvement: 6)\n",
            "\u001b[1m971/971\u001b[0m \u001b[32m━━━━━━━━━━━━━━━━━━━━\u001b[0m\u001b[37m\u001b[0m \u001b[1m26s\u001b[0m 27ms/step - accuracy: 0.0033 - loss: 9.6685 - val_accuracy: 0.0030 - val_loss: 10.3770\n",
            "Epoch 13/50\n",
            "\u001b[1m969/971\u001b[0m \u001b[32m━━━━━━━━━━━━━━━━━━━\u001b[0m\u001b[37m━\u001b[0m \u001b[1m0s\u001b[0m 26ms/step - accuracy: 0.0637 - loss: 6.9244\n",
            "Epoch 13: val_accuracy improved to 0.06533, saving model to lstm_baseline_model.h5\n",
            "\u001b[1m971/971\u001b[0m \u001b[32m━━━━━━━━━━━━━━━━━━━━\u001b[0m\u001b[37m\u001b[0m \u001b[1m26s\u001b[0m 27ms/step - accuracy: 0.0637 - loss: 6.9244 - val_accuracy: 0.0653 - val_loss: 8.5081\n",
            "Epoch 14/50\n",
            "\u001b[1m969/971\u001b[0m \u001b[32m━━━━━━━━━━━━━━━━━━━\u001b[0m\u001b[37m━\u001b[0m \u001b[1m0s\u001b[0m 26ms/step - accuracy: 0.1372 - loss: 6.6454\n",
            "Epoch 14: val_accuracy improved to 0.14162, saving model to lstm_baseline_model.h5\n",
            "\u001b[1m971/971\u001b[0m \u001b[32m━━━━━━━━━━━━━━━━━━━━\u001b[0m\u001b[37m\u001b[0m \u001b[1m26s\u001b[0m 27ms/step - accuracy: 0.1372 - loss: 6.6454 - val_accuracy: 0.1416 - val_loss: 8.0105\n",
            "Epoch 15/50\n",
            "\u001b[1m969/971\u001b[0m \u001b[32m━━━━━━━━━━━━━━━━━━━\u001b[0m\u001b[37m━\u001b[0m \u001b[1m0s\u001b[0m 26ms/step - accuracy: 0.2001 - loss: 6.2851\n",
            "Epoch 15: val_accuracy improved to 0.20365, saving model to lstm_baseline_model.h5\n",
            "\u001b[1m971/971\u001b[0m \u001b[32m━━━━━━━━━━━━━━━━━━━━\u001b[0m\u001b[37m\u001b[0m \u001b[1m26s\u001b[0m 27ms/step - accuracy: 0.2001 - loss: 6.2851 - val_accuracy: 0.2037 - val_loss: 6.7522\n",
            "Epoch 16/50\n",
            "\u001b[1m969/971\u001b[0m \u001b[32m━━━━━━━━━━━━━━━━━━━\u001b[0m\u001b[37m━\u001b[0m \u001b[1m0s\u001b[0m 26ms/step - accuracy: 0.2706 - loss: 5.6680\n",
            "Epoch 16: val_accuracy improved to 0.24962, saving model to lstm_baseline_model.h5\n",
            "\u001b[1m971/971\u001b[0m \u001b[32m━━━━━━━━━━━━━━━━━━━━\u001b[0m\u001b[37m\u001b[0m \u001b[1m26s\u001b[0m 27ms/step - accuracy: 0.2706 - loss: 5.6680 - val_accuracy: 0.2496 - val_loss: 6.1226\n",
            "Epoch 17/50\n",
            "\u001b[1m969/971\u001b[0m \u001b[32m━━━━━━━━━━━━━━━━━━━\u001b[0m\u001b[37m━\u001b[0m \u001b[1m0s\u001b[0m 26ms/step - accuracy: 0.3404 - loss: 5.3114\n",
            "Epoch 17: val_accuracy improved to 0.31053, saving model to lstm_baseline_model.h5\n",
            "\u001b[1m971/971\u001b[0m \u001b[32m━━━━━━━━━━━━━━━━━━━━\u001b[0m\u001b[37m\u001b[0m \u001b[1m26s\u001b[0m 27ms/step - accuracy: 0.3404 - loss: 5.3114 - val_accuracy: 0.3105 - val_loss: 6.0257\n",
            "Epoch 18/50\n",
            "\u001b[1m969/971\u001b[0m \u001b[32m━━━━━━━━━━━━━━━━━━━\u001b[0m\u001b[37m━\u001b[0m \u001b[1m0s\u001b[0m 26ms/step - accuracy: 0.3843 - loss: 4.6074\n",
            "Epoch 18: val_accuracy improved to 0.38422, saving model to lstm_baseline_model.h5\n",
            "\u001b[1m971/971\u001b[0m \u001b[32m━━━━━━━━━━━━━━━━━━━━\u001b[0m\u001b[37m\u001b[0m \u001b[1m26s\u001b[0m 27ms/step - accuracy: 0.3843 - loss: 4.6074 - val_accuracy: 0.3842 - val_loss: 5.0056\n",
            "Epoch 19/50\n",
            "\u001b[1m969/971\u001b[0m \u001b[32m━━━━━━━━━━━━━━━━━━━\u001b[0m\u001b[37m━\u001b[0m \u001b[1m0s\u001b[0m 26ms/step - accuracy: 0.4773 - loss: 3.3676\n",
            "Epoch 19: val_accuracy improved to 0.45942, saving model to lstm_baseline_model.h5\n",
            "\u001b[1m971/971\u001b[0m \u001b[32m━━━━━━━━━━━━━━━━━━━━\u001b[0m\u001b[37m\u001b[0m \u001b[1m26s\u001b[0m 27ms/step - accuracy: 0.4773 - loss: 3.3676 - val_accuracy: 0.4594 - val_loss: 3.8336\n",
            "Epoch 20/50\n",
            "\u001b[1m969/971\u001b[0m \u001b[32m━━━━━━━━━━━━━━━━━━━\u001b[0m\u001b[37m━\u001b[0m \u001b[1m0s\u001b[0m 26ms/step - accuracy: 0.5208 - loss: 3.4341\n",
            "Epoch 20: val_accuracy improved to 0.52375, saving model to lstm_baseline_model.h5\n",
            "\u001b[1m971/971\u001b[0m \u001b[32m━━━━━━━━━━━━━━━━━━━━\u001b[0m\u001b[37m\u001b[0m \u001b[1m26s\u001b[0m 27ms/step - accuracy: 0.5208 - loss: 3.4341 - val_accuracy: 0.5238 - val_loss: 3.9027\n",
            "Epoch 21/50\n",
            "\u001b[1m969/971\u001b[0m \u001b[32m━━━━━━━━━━━━━━━━━━━\u001b[0m\u001b[37m━\u001b[0m \u001b[1m0s\u001b[0m 26ms/step - accuracy: 0.6011 - loss: 2.5763\n",
            "Epoch 21: val_accuracy improved to 0.58522, saving model to lstm_baseline_model.h5\n",
            "\u001b[1m971/971\u001b[0m \u001b[32m━━━━━━━━━━━━━━━━━━━━\u001b[0m\u001b[37m\u001b[0m \u001b[1m26s\u001b[0m 27ms/step - accuracy: 0.6011 - loss: 2.5763 - val_accuracy: 0.5852 - val_loss: 2.8303\n",
            "Epoch 22/50\n",
            "\u001b[1m969/971\u001b[0m \u001b[32m━━━━━━━━━━━━━━━━━━━\u001b[0m\u001b[37m━\u001b[0m \u001b[1m0s\u001b[0m 26ms/step - accuracy: 0.6813 - loss: 1.6424\n",
            "Epoch 22: val_accuracy improved to 0.63590, saving model to lstm_baseline_model.h5\n",
            "\u001b[1m971/971\u001b[0m \u001b[32m━━━━━━━━━━━━━━━━━━━━\u001b[0m\u001b[37m\u001b[0m \u001b[1m26s\u001b[0m 27ms/step - accuracy: 0.6813 - loss: 1.6424 - val_accuracy: 0.6359 - val_loss: 2.8262\n",
            "Epoch 23/50\n",
            "\u001b[1m969/971\u001b[0m \u001b[32m━━━━━━━━━━━━━━━━━━━\u001b[0m\u001b[37m━\u001b[0m \u001b[1m0s\u001b[0m 26ms/step - accuracy: 0.7150 - loss: 1.4006\n",
            "Epoch 23: val_accuracy improved to 0.73105, saving model to lstm_baseline_model.h5\n",
            "\u001b[1m971/971\u001b[0m \u001b[32m━━━━━━━━━━━━━━━━━━━━\u001b[0m\u001b[37m\u001b[0m \u001b[1m26s\u001b[0m 27ms/step - accuracy: 0.7150 - loss: 1.4006 - val_accuracy: 0.7310 - val_loss: 1.2224\n",
            "Epoch 24/50\n",
            "\u001b[1m969/971\u001b[0m \u001b[32m━━━━━━━━━━━━━━━━━━━\u001b[0m\u001b[37m━\u001b[0m \u001b[1m0s\u001b[0m 26ms/step - accuracy: 0.7832 - loss: 0.8849\n",
            "Epoch 24: val_accuracy improved to 0.77354, saving model to lstm_baseline_model.h5\n",
            "\u001b[1m971/971\u001b[0m \u001b[32m━━━━━━━━━━━━━━━━━━━━\u001b[0m\u001b[37m\u001b[0m \u001b[1m26s\u001b[0m 27ms/step - accuracy: 0.7832 - loss: 0.8849 - val_accuracy: 0.7735 - val_loss: 1.4776\n",
            "Epoch 25/50\n",
            "\u001b[1m969/971\u001b[0m \u001b[32m━━━━━━━━━━━━━━━━━━━\u001b[0m\u001b[37m━\u001b[0m \u001b[1m0s\u001b[0m 26ms/step - accuracy: 0.8696 - loss: 0.6125\n",
            "Epoch 25: val_accuracy improved to 0.85473, saving model to lstm_baseline_model.h5\n",
            "\u001b[1m971/971\u001b[0m \u001b[32m━━━━━━━━━━━━━━━━━━━━\u001b[0m\u001b[37m\u001b[0m \u001b[1m26s\u001b[0m 27ms/step - accuracy: 0.8696 - loss: 0.6125 - val_accuracy: 0.8547 - val_loss: 0.7537\n",
            "Epoch 26/50\n",
            "\u001b[1m969/971\u001b[0m \u001b[32m━━━━━━━━━━━━━━━━━━━\u001b[0m\u001b[37m━\u001b[0m \u001b[1m0s\u001b[0m 26ms/step - accuracy: 0.8871 - loss: 0.5955\n",
            "Epoch 26: val_accuracy improved to 0.88190, saving model to lstm_baseline_model.h5\n",
            "\u001b[1m971/971\u001b[0m \u001b[32m━━━━━━━━━━━━━━━━━━━━\u001b[0m\u001b[37m\u001b[0m \u001b[1m26s\u001b[0m 27ms/step - accuracy: 0.8871 - loss: 0.5955 - val_accuracy: 0.8819 - val_loss: 0.6039\n",
            "Epoch 27/50\n",
            "\u001b[1m969/971\u001b[0m \u001b[32m━━━━━━━━━━━━━━━━━━━\u001b[0m\u001b[37m━\u001b[0m \u001b[1m0s\u001b[0m 26ms/step - accuracy: 0.9140 - loss: 0.3605\n",
            "Epoch 27: val_accuracy improved to 0.90001, saving model to lstm_baseline_model.h5\n",
            "\u001b[1m971/971\u001b[0m \u001b[32m━━━━━━━━━━━━━━━━━━━━\u001b[0m\u001b[37m\u001b[0m \u001b[1m26s\u001b[0m 27ms/step - accuracy: 0.9140 - loss: 0.3605 - val_accuracy: 0.9000 - val_loss: 0.4557\n",
            "Epoch 28/50\n",
            "\u001b[1m969/971\u001b[0m \u001b[32m━━━━━━━━━━━━━━━━━━━\u001b[0m\u001b[37m━\u001b[0m \u001b[1m0s\u001b[0m 26ms/step - accuracy: 0.9053 - loss: 0.3711\n",
            "Epoch 28: val_accuracy improved to 0.90500, saving model to lstm_baseline_model.h5\n",
            "\u001b[1m971/971\u001b[0m \u001b[32m━━━━━━━━━━━━━━━━━━━━\u001b[0m\u001b[37m\u001b[0m \u001b[1m26s\u001b[0m 27ms/step - accuracy: 0.9053 - loss: 0.3711 - val_accuracy: 0.9050 - val_loss: 0.4051\n",
            "Epoch 29/50\n",
            "\u001b[1m969/971\u001b[0m \u001b[32m━━━━━━━━━━━━━━━━━━━\u001b[0m\u001b[37m━\u001b[0m \u001b[1m0s\u001b[0m 26ms/step - accuracy: 0.9119 - loss: 0.3728\n",
            "Epoch 29: val_accuracy improved to 0.90912, saving model to lstm_baseline_model.h5\n",
            "\u001b[1m971/971\u001b[0m \u001b[32m━━━━━━━━━━━━━━━━━━━━\u001b[0m\u001b[37m\u001b[0m \u001b[1m26s\u001b[0m 27ms/step - accuracy: 0.9119 - loss: 0.3728 - val_accuracy: 0.9091 - val_loss: 0.4124\n",
            "Epoch 30/50\n",
            "\u001b[1m969/971\u001b[0m \u001b[32m━━━━━━━━━━━━━━━━━━━\u001b[0m\u001b[37m━\u001b[0m \u001b[1m0s\u001b[0m 26ms/step - accuracy: 0.9059 - loss: 0.3218\n",
            "Epoch 30: val_accuracy did not improve from 0.90912 (epochs without improvement: 1)\n",
            "\u001b[1m971/971\u001b[0m \u001b[32m━━━━━━━━━━━━━━━━━━━━\u001b[0m\u001b[37m\u001b[0m \u001b[1m26s\u001b[0m 27ms/step - accuracy: 0.9059 - loss: 0.3218 - val_accuracy: 0.9043 - val_loss: 0.4591\n",
            "Epoch 31/50\n",
            "\u001b[1m969/971\u001b[0m \u001b[32m━━━━━━━━━━━━━━━━━━━\u001b[0m\u001b[37m━\u001b[0m \u001b[1m0s\u001b[0m 26ms/step - accuracy: 0.9093 - loss: 0.3371\n",
            "Epoch 31: val_accuracy did not improve from 0.90912 (epochs without improvement: 2)\n",
            "\u001b[1m971/971\u001b[0m \u001b[32m━━━━━━━━━━━━━━━━━━━━\u001b[0m\u001b[37m\u001b[0m \u001b[1m26s\u001b[0m 27ms/step - accuracy: 0.9093 - loss: 0.3371 - val_accuracy: 0.9071 - val_loss: 0.4472\n",
            "Epoch 32/50\n",
            "\u001b[1m969/971\u001b[0m \u001b[32m━━━━━━━━━━━━━━━━━━━\u001b[0m\u001b[37m━\u001b[0m \u001b[1m0s\u001b[0m 26ms/step - accuracy: 0.9083 - loss: 0.3150\n",
            "Epoch 32: val_accuracy did not improve from 0.90912 (epochs without improvement: 3)\n",
            "\u001b[1m971/971\u001b[0m \u001b[32m━━━━━━━━━━━━━━━━━━━━\u001b[0m\u001b[37m\u001b[0m \u001b[1m26s\u001b[0m 27ms/step - accuracy: 0.9083 - loss: 0.3150 - val_accuracy: 0.9016 - val_loss: 0.4235\n",
            "Epoch 33/50\n",
            "\u001b[1m969/971\u001b[0m \u001b[32m━━━━━━━━━━━━━━━━━━━\u001b[0m\u001b[37m━\u001b[0m \u001b[1m0s\u001b[0m 26ms/step - accuracy: 0.9057 - loss: 0.3155\n",
            "Epoch 33: val_accuracy did not improve from 0.90912 (epochs without improvement: 4)\n",
            "\u001b[1m971/971\u001b[0m \u001b[32m━━━━━━━━━━━━━━━━━━━━\u001b[0m\u001b[37m\u001b[0m \u001b[1m26s\u001b[0m 27ms/step - accuracy: 0.9057 - loss: 0.3155 - val_accuracy: 0.9025 - val_loss: 0.4776\n",
            "Epoch 34/50\n",
            "\u001b[1m969/971\u001b[0m \u001b[32m━━━━━━━━━━━━━━━━━━━\u001b[0m\u001b[37m━\u001b[0m \u001b[1m0s\u001b[0m 26ms/step - accuracy: 0.9119 - loss: 0.3744\n",
            "Epoch 34: val_accuracy did not improve from 0.90912 (epochs without improvement: 5)\n",
            "\u001b[1m971/971\u001b[0m \u001b[32m━━━━━━━━━━━━━━━━━━━━\u001b[0m\u001b[37m\u001b[0m \u001b[1m26s\u001b[0m 27ms/step - accuracy: 0.9119 - loss: 0.3744 - val_accuracy: 0.9006 - val_loss: 0.4941\n",
            "\n",
            "Early stopping triggered at Epoch 34 due to no improvement for 5 consecutive epochs.\n",
            "Restoring model weights from the end of the best epoch: 13.\n",
            "\n",
            "--- Step 1.2 Training Complete ---\n"
          ]
        }
      ],
      "source": [
        "from tensorflow.keras.models import Sequential\n",
        "from tensorflow.keras.layers import LSTM, Dense, Dropout\n",
        "from tensorflow.keras.callbacks import ModelCheckpoint, EarlyStopping\n",
        "\n",
        "# --- 1. Define Model Architecture ---\n",
        "# This is the Keras code for the LSTM model architecture for your report\n",
        "model = Sequential()\n",
        "model.add(LSTM(64, return_sequences=True, input_shape=(X_train.shape[1], X_train.shape[2])))\n",
        "model.add(Dropout(0.5))\n",
        "model.add(LSTM(64, return_sequences=False))\n",
        "model.add(Dropout(0.5))\n",
        "model.add(Dense(32, activation='relu'))\n",
        "model.add(Dense(y_train.shape[1], activation='softmax')) # Output layer matches the number of classes\n",
        "\n",
        "# --- 2. Compile the Model ---\n",
        "model.compile(optimizer='adam', loss='categorical_crossentropy', metrics=['accuracy'])\n",
        "\n",
        "# Print the model summary\n",
        "print(\"--- Baseline LSTM Model Architecture ---\")\n",
        "model.summary()\n",
        "\n",
        "# --- 3. Define Callbacks ---\n",
        "# This saves the best version of the model during training\n",
        "checkpoint_path = 'lstm_baseline_model.h5'\n",
        "model_checkpoint = ModelCheckpoint(\n",
        "    filepath=checkpoint_path,\n",
        "    save_best_only=True,\n",
        "    monitor='val_accuracy',\n",
        "    mode='max',\n",
        "    verbose=1\n",
        ")\n",
        "\n",
        "# This stops training early if the model stops improving\n",
        "early_stopping = EarlyStopping(\n",
        "    monitor='val_loss',\n",
        "    patience=5, # Stop if val_loss doesn't improve for 5 consecutive epochs\n",
        "    restore_best_weights=True,\n",
        "    verbose=1\n",
        ")\n",
        "\n",
        "# --- 4. Train the Model ---\n",
        "print(\"\\n--- Starting Official Baseline Model Training ---\")\n",
        "history = model.fit(\n",
        "    X_train, y_train,\n",
        "    epochs=50, # Set a high number of epochs; EarlyStopping will find the best one\n",
        "    validation_data=(X_val, y_val),\n",
        "    callbacks=[model_checkpoint, early_stopping]\n",
        ")\n",
        "\n",
        "print(\"\\n--- Step 1.2 Training Complete ---\")"
      ]
    }
  ],
  "metadata": {
    "colab": {
      "machine_shape": "hm",
      "provenance": []
    },
    "kernelspec": {
      "display_name": "Python 3",
      "name": "python3"
    },
    "language_info": {
      "name": "python"
    }
  },
  "nbformat": 4,
  "nbformat_minor": 0
}
