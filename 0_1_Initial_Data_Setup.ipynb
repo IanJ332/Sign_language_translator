{
  "nbformat": 4,
  "nbformat_minor": 0,
  "metadata": {
    "colab": {
      "provenance": []
    },
    "kernelspec": {
      "name": "python3",
      "display_name": "Python 3"
    },
    "language_info": {
      "name": "python"
    }
  },
  "cells": [
    {
      "cell_type": "code",
      "source": [
        "# @title Download the Datasets\n",
        "#\n",
        "# This cell downloads the required TEST datasets from Google Drive.\n",
        "\n",
        "import os\n",
        "import gdown\n",
        "import zipfile\n",
        "import tarfile\n",
        "import shutil\n",
        "\n",
        "# --- Configuration ---\n",
        "# URLs for the datasets, taken from the project plan\n",
        "DATA_URLS = {\n",
        "    \"keypoints\": \"https://drive.google.com/file/d/1g8tzzW5BNPzHXlamuMQOvdwlHRa-29Vp/view?usp=sharing\",\n",
        "    \"rgb_clips\": \"https://drive.google.com/file/d/1qTIXFsu8M55HrCiaGv7vZ7GkdB3ubjaG/view?usp=sharing\"\n",
        "}\n",
        "\n",
        "# Directory to store the development data\n",
        "OUTPUT_DIR = \"dev_test_data\"\n",
        "\n",
        "\n",
        "# --- Download and Extract Files ---\n",
        "for name, url in DATA_URLS.items():\n",
        "    print(f\"--- Processing {name} ---\")\n",
        "\n",
        "    # Let gdown determine the filename and download to the current directory\n",
        "    print(f\"Downloading {name} data...\")\n",
        "    downloaded_file_path = gdown.download(url, quiet=False, fuzzy=True)\n",
        "\n",
        "    if downloaded_file_path is None or not os.path.exists(downloaded_file_path):\n",
        "        print(f\"❌ Error: Download failed for {name}. Please check the URL and permissions.\")\n",
        "        continue\n",
        "\n",
        "    print(f\"✅ Download complete: {downloaded_file_path}\")\n",
        "\n",
        "    # --- Unpack Files ---\n",
        "    print(f\"Attempting to unpack {downloaded_file_path}...\")\n",
        "    extracted = False\n",
        "\n",
        "    # Try to extract as a zip file\n",
        "    if zipfile.is_zipfile(downloaded_file_path):\n",
        "        try:\n",
        "            with zipfile.ZipFile(downloaded_file_path, 'r') as zip_ref:\n",
        "                zip_ref.extractall(OUTPUT_DIR)\n",
        "            print(f\"✅ Unzipped successfully.\")\n",
        "            extracted = True\n",
        "        except Exception as e:\n",
        "            print(f\"An error occurred during unzipping: {e}\")\n",
        "\n",
        "    # If not a zip, try to extract as a tar file\n",
        "    elif tarfile.is_tarfile(downloaded_file_path):\n",
        "        try:\n",
        "            with tarfile.open(downloaded_file_path, 'r:*') as tar_ref:\n",
        "                tar_ref.extractall(path=OUTPUT_DIR)\n",
        "            print(f\"✅ Extracted tar archive successfully.\")\n",
        "            extracted = True\n",
        "        except Exception as e:\n",
        "            print(f\"An error occurred during tar extraction: {e}\")\n",
        "\n",
        "    if not extracted:\n",
        "        print(f\"❌ Error: The file '{downloaded_file_path}' is not a recognized zip or tar archive. Manual inspection may be needed.\")\n",
        "\n",
        "    # --- Clean up the downloaded archive file ---\n",
        "    if os.path.exists(downloaded_file_path):\n",
        "        os.remove(downloaded_file_path)\n",
        "        print(f\"Removed archive file: {downloaded_file_path}\\n\")\n",
        "\n",
        "\n",
        "print(\"All dataset operations are complete.\")\n"
      ],
      "metadata": {
        "colab": {
          "base_uri": "https://localhost:8080/"
        },
        "id": "2wEvJ05Ye6Zi",
        "outputId": "dc517c58-7d79-4f0c-fd06-eecb3ea340d6"
      },
      "execution_count": null,
      "outputs": [
        {
          "output_type": "stream",
          "name": "stdout",
          "text": [
            "--- Processing keypoints ---\n",
            "Downloading keypoints data...\n"
          ]
        },
        {
          "output_type": "stream",
          "name": "stderr",
          "text": [
            "Downloading...\n",
            "From (original): https://drive.google.com/uc?id=1g8tzzW5BNPzHXlamuMQOvdwlHRa-29Vp\n",
            "From (redirected): https://drive.google.com/uc?id=1g8tzzW5BNPzHXlamuMQOvdwlHRa-29Vp&confirm=t&uuid=7ed29dea-277b-4d44-8fc7-c1a2f55c034f\n",
            "To: /content/test_2D_keypoints.tar.gz\n",
            "100%|██████████| 1.70G/1.70G [00:17<00:00, 96.5MB/s]\n"
          ]
        },
        {
          "output_type": "stream",
          "name": "stdout",
          "text": [
            "✅ Download complete: test_2D_keypoints.tar.gz\n",
            "Attempting to unpack test_2D_keypoints.tar.gz...\n",
            "✅ Extracted tar archive successfully.\n",
            "Removed archive file: test_2D_keypoints.tar.gz\n",
            "\n",
            "--- Processing rgb_clips ---\n",
            "Downloading rgb_clips data...\n"
          ]
        },
        {
          "output_type": "stream",
          "name": "stderr",
          "text": [
            "Downloading...\n",
            "From (original): https://drive.google.com/uc?id=1qTIXFsu8M55HrCiaGv7vZ7GkdB3ubjaG\n",
            "From (redirected): https://drive.google.com/uc?id=1qTIXFsu8M55HrCiaGv7vZ7GkdB3ubjaG&confirm=t&uuid=b5ba748b-8a2c-4c50-93b0-ebec6518c27f\n",
            "To: /content/test_rgb_front_clips.zip\n",
            "100%|██████████| 2.41G/2.41G [00:38<00:00, 63.1MB/s]\n"
          ]
        },
        {
          "output_type": "stream",
          "name": "stdout",
          "text": [
            "✅ Download complete: test_rgb_front_clips.zip\n",
            "Attempting to unpack test_rgb_front_clips.zip...\n",
            "✅ Unzipped successfully.\n",
            "Removed archive file: test_rgb_front_clips.zip\n",
            "\n",
            "All dataset operations are complete.\n"
          ]
        }
      ]
    },
    {
      "cell_type": "code",
      "source": [
        "# @title Verify Data Setup\n",
        "#\n",
        "# This cell checks if the data folders have been created successfully,\n",
        "# meeting the success criterion.\n",
        "\n",
        "# --- Verification ---\n",
        "print(f\"Verifying contents of '{OUTPUT_DIR}':\")\n",
        "\n",
        "try:\n",
        "    # List the contents of the directory\n",
        "    contents = os.listdir(OUTPUT_DIR)\n",
        "\n",
        "    if contents:\n",
        "        print(\"🎯 Success! The following files/folders are in the development directory:\")\n",
        "        for item in contents:\n",
        "            print(f\"- {item}\")\n",
        "    else:\n",
        "        print(\"⚠️ Warning: The development directory is empty.\")\n",
        "\n",
        "except FileNotFoundError:\n",
        "    print(f\"❌ Error: The directory '{OUTPUT_DIR}' was not found.\")\n",
        "\n"
      ],
      "metadata": {
        "colab": {
          "base_uri": "https://localhost:8080/"
        },
        "id": "eFE-izPWe_xc",
        "outputId": "2bc2f2b9-2324-4528-f4fe-bef557ed2d82"
      },
      "execution_count": null,
      "outputs": [
        {
          "output_type": "stream",
          "name": "stdout",
          "text": [
            "Verifying contents of 'dev_test_data':\n",
            "🎯 Success! The following files/folders are in the development directory:\n",
            "- openpose_output\n",
            "- .ipynb_checkpoints\n",
            "- raw_videos\n"
          ]
        }
      ]
    },
    {
      "cell_type": "code",
      "source": [
        "# @title Now is time to save some data to drive\n",
        "#\n",
        "# This cell connects your Google Drive to this Colab notebook.\n",
        "# You will be prompted to authorize this connection.\n",
        "\n",
        "from google.colab import drive\n",
        "drive.mount('/content/drive')\n",
        "\n",
        "print(\"\\n✅ Google Drive mounted successfully!\")\n"
      ],
      "metadata": {
        "colab": {
          "base_uri": "https://localhost:8080/"
        },
        "id": "Gk5PhrQRhvhh",
        "outputId": "57d9f373-1aee-4382-cdb2-500e47d675f0"
      },
      "execution_count": null,
      "outputs": [
        {
          "output_type": "stream",
          "name": "stdout",
          "text": [
            "Drive already mounted at /content/drive; to attempt to forcibly remount, call drive.mount(\"/content/drive\", force_remount=True).\n",
            "\n",
            "✅ Google Drive mounted successfully!\n"
          ]
        }
      ]
    },
    {
      "cell_type": "code",
      "source": [
        "# @title 最终解决方案：精确创建数据子集\n",
        "#\n",
        "# 📝 **目标:** 根据我们已确认的正确数据结构，创建一个包含所有相关文件（JSON关键点、原始视频等）的、小而完整的开发子集。\n",
        "#\n",
        "# **操作:** 此脚本将自动从 `openpose_output/json` 中选取前5个视频序列，然后找到并复制它们对应的所有相关文件。\n",
        "\n",
        "import os\n",
        "import shutil\n",
        "\n",
        "# --- 1. 配置 (基于我们已确认的正确路径) ---\n",
        "JSON_SOURCE_DIR = 'dev_test_data/openpose_output/json'\n",
        "VIDEO_SOURCE_DIR = 'dev_test_data/openpose_output/video'\n",
        "RAW_VIDEO_SOURCE_DIR = 'dev_test_data/raw_videos'\n",
        "\n",
        "SUBSET_DIR = 'dev_test_data_subset'\n",
        "NUM_SEQUENCES_TO_KEEP = 5 # 选择5个序列作为我们的开发集，这个数量完全足够\n",
        "\n",
        "print(\"--- 开始创建精确的数据子集 ---\")\n",
        "\n",
        "# --- 2. 清理并创建子集目录结构 ---\n",
        "if os.path.exists(SUBSET_DIR):\n",
        "    shutil.rmtree(SUBSET_DIR)\n",
        "    print(f\"清除了旧的子集目录: {SUBSET_DIR}\")\n",
        "\n",
        "# 创建与源数据类似的目录结构，更清晰\n",
        "subset_json_dir = os.path.join(SUBSET_DIR, 'json_keypoints')\n",
        "subset_video_dir = os.path.join(SUBSET_DIR, 'rendered_videos')\n",
        "subset_raw_video_dir = os.path.join(SUBSET_DIR, 'raw_videos')\n",
        "\n",
        "os.makedirs(subset_json_dir)\n",
        "os.makedirs(subset_video_dir)\n",
        "os.makedirs(subset_raw_video_dir)\n",
        "print(f\"创建了新的子集目录结构于: {SUBSET_DIR}\")\n",
        "\n",
        "# --- 3. 选择要复制的视频序列 ---\n",
        "if not os.path.isdir(JSON_SOURCE_DIR):\n",
        "    print(f\"❌ 错误: 关键点数据源目录 '{JSON_SOURCE_DIR}' 不存在！无法继续。\")\n",
        "else:\n",
        "    # 获取所有序列的名称（即json目录下的所有子文件夹）并排序\n",
        "    all_sequences = sorted([d for d in os.listdir(JSON_SOURCE_DIR) if os.path.isdir(os.path.join(JSON_SOURCE_DIR, d))])\n",
        "\n",
        "    sequences_to_copy = all_sequences[:NUM_SEQUENCES_TO_KEEP]\n",
        "\n",
        "    print(f\"\\n在 '{JSON_SOURCE_DIR}' 中找到 {len(all_sequences)} 个视频序列。\")\n",
        "    print(f\"将选取前 {len(sequences_to_copy)} 个作为子集:\")\n",
        "    for seq_name in sequences_to_copy:\n",
        "        print(f\"  - {seq_name}\")\n",
        "\n",
        "    # --- 4. 复制所有相关文件 ---\n",
        "    copied_count = 0\n",
        "    for seq_name in sequences_to_copy:\n",
        "        print(f\"\\n--- 正在处理序列: {seq_name} ---\")\n",
        "\n",
        "        # 1. 复制JSON关键点文件夹\n",
        "        source_json_path = os.path.join(JSON_SOURCE_DIR, seq_name)\n",
        "        dest_json_path = os.path.join(subset_json_dir, seq_name)\n",
        "        if os.path.isdir(source_json_path):\n",
        "            shutil.copytree(source_json_path, dest_json_path)\n",
        "            print(f\"    ✅ 已复制关键点数据 (JSONs)\")\n",
        "        else:\n",
        "            print(f\"    ⚠️ 警告: 未找到关键点文件夹 {source_json_path}\")\n",
        "\n",
        "        # 2. 复制渲染后的视频\n",
        "        # 视频文件名通常是序列名 + .mp4\n",
        "        video_filename = f\"{seq_name}.mp4\"\n",
        "        source_video_path = os.path.join(VIDEO_SOURCE_DIR, video_filename)\n",
        "        dest_video_path = os.path.join(subset_video_dir, video_filename)\n",
        "        if os.path.exists(source_video_path):\n",
        "            shutil.copy(source_video_path, dest_video_path)\n",
        "            print(f\"    ✅ 已复制渲染视频\")\n",
        "        else:\n",
        "            print(f\"    ⚠️ 警告: 未找到渲染视频 {source_video_path}\")\n",
        "\n",
        "        # 3. 复制原始视频\n",
        "        raw_video_filename = f\"{seq_name}.mp4\" # 假设原始视频和序列名也对应\n",
        "        source_raw_video_path = os.path.join(RAW_VIDEO_SOURCE_DIR, raw_video_filename)\n",
        "        dest_raw_video_path = os.path.join(subset_raw_video_dir, raw_video_filename)\n",
        "        if os.path.exists(source_raw_video_path):\n",
        "            shutil.copy(source_raw_video_path, dest_raw_video_path)\n",
        "            print(f\"    ✅ 已复制原始视频\")\n",
        "        else:\n",
        "            # 原始视频的文件名可能没有-rgb_front后缀，尝试去掉它\n",
        "            base_name = seq_name.replace('-rgb_front', '')\n",
        "            raw_video_filename_alt = f\"{base_name}.mp4\"\n",
        "            source_raw_video_path_alt = os.path.join(RAW_VIDEO_SOURCE_DIR, raw_video_filename_alt)\n",
        "            if os.path.exists(source_raw_video_path_alt):\n",
        "                 shutil.copy(source_raw_video_path_alt, os.path.join(subset_raw_video_dir, raw_video_filename_alt))\n",
        "                 print(f\"    ✅ 已复制原始视频 (备用名称: {raw_video_filename_alt})\")\n",
        "            else:\n",
        "                print(f\"    ⚠️ 警告: 未找到原始视频 {source_raw_video_path} 或 {source_raw_video_path_alt}\")\n",
        "\n",
        "        copied_count += 1\n",
        "\n",
        "    print(f\"\\n--- 🎯 操作完成！---\")\n",
        "    print(f\"成功处理了 {copied_count} 个视频序列。\")\n",
        "    print(f\"一个完整、小巧的开发数据集已在 '{SUBSET_DIR}' 中准备就绪。\")\n",
        "    print(\"现在，您可以运行“打包并上传到谷歌硬盘”的单元格来永久保存它了。\")\n",
        "\n"
      ],
      "metadata": {
        "colab": {
          "base_uri": "https://localhost:8080/"
        },
        "id": "qv6hNeTRAMgo",
        "outputId": "8968f148-a2c3-4dc5-b1ea-53ba57f8099b"
      },
      "execution_count": null,
      "outputs": [
        {
          "output_type": "stream",
          "name": "stdout",
          "text": [
            "--- 开始创建精确的数据子集 ---\n",
            "清除了旧的子集目录: dev_test_data_subset\n",
            "创建了新的子集目录结构于: dev_test_data_subset\n",
            "\n",
            "在 'dev_test_data/openpose_output/json' 中找到 2343 个视频序列。\n",
            "将选取前 5 个作为子集:\n",
            "  - -fZc293MpJk_0-1-rgb_front\n",
            "  - -fZc293MpJk_2-1-rgb_front\n",
            "  - -fZc293MpJk_3-1-rgb_front\n",
            "  - -fZc293MpJk_4-1-rgb_front\n",
            "  - -fZc293MpJk_5-1-rgb_front\n",
            "\n",
            "--- 正在处理序列: -fZc293MpJk_0-1-rgb_front ---\n",
            "    ✅ 已复制关键点数据 (JSONs)\n",
            "    ✅ 已复制渲染视频\n",
            "    ✅ 已复制原始视频\n",
            "\n",
            "--- 正在处理序列: -fZc293MpJk_2-1-rgb_front ---\n",
            "    ✅ 已复制关键点数据 (JSONs)\n",
            "    ✅ 已复制渲染视频\n",
            "    ✅ 已复制原始视频\n",
            "\n",
            "--- 正在处理序列: -fZc293MpJk_3-1-rgb_front ---\n",
            "    ✅ 已复制关键点数据 (JSONs)\n",
            "    ✅ 已复制渲染视频\n",
            "    ✅ 已复制原始视频\n",
            "\n",
            "--- 正在处理序列: -fZc293MpJk_4-1-rgb_front ---\n",
            "    ✅ 已复制关键点数据 (JSONs)\n",
            "    ✅ 已复制渲染视频\n",
            "    ✅ 已复制原始视频\n",
            "\n",
            "--- 正在处理序列: -fZc293MpJk_5-1-rgb_front ---\n",
            "    ✅ 已复制关键点数据 (JSONs)\n",
            "    ✅ 已复制渲染视频\n",
            "    ✅ 已复制原始视频\n",
            "\n",
            "--- 🎯 操作完成！---\n",
            "成功处理了 5 个视频序列。\n",
            "一个完整、小巧的开发数据集已在 'dev_test_data_subset' 中准备就绪。\n",
            "现在，您可以运行“打包并上传到谷歌硬盘”的单元格来永久保存它了。\n"
          ]
        }
      ]
    },
    {
      "cell_type": "code",
      "source": [
        "# @title 打包开发子集并保存到谷歌硬盘\n",
        "#\n",
        "# 📝 **目标:** 将我们最终创建的、正确的 'dev_test_data_subset' 文件夹打包成zip文件，并永久保存在您的谷歌硬盘中。\n",
        "#\n",
        "# **操作:** 此单元将自动完成挂载硬盘、打包和复制的全过程。\n",
        "\n",
        "from google.colab import drive\n",
        "import shutil\n",
        "import os\n",
        "\n",
        "# --- 1. 配置 ---\n",
        "SOURCE_DIR_TO_PACKAGE = 'dev_test_data_subset'\n",
        "ARCHIVE_NAME = 'dev_test_data_subset_archive'\n",
        "# 您可以自定义保存在谷歌硬盘里的文件夹名称\n",
        "DRIVE_FOLDER_PATH = '/content/drive/MyDrive/Sign_Language_Project_Dev_Data'\n",
        "\n",
        "# --- 2. 检查源文件夹是否存在 ---\n",
        "if not os.path.isdir(SOURCE_DIR_TO_PACKAGE):\n",
        "    print(f\"❌ 错误: 源文件夹 '{SOURCE_DIR_TO_PACKAGE}' 不存在。请确保上一步已成功运行。\")\n",
        "else:\n",
        "    # --- 3. 打包文件夹为 .zip 文件 ---\n",
        "    print(f\"正在将 '{SOURCE_DIR_TO_PACKAGE}' 打包成 '{ARCHIVE_NAME}.zip'...\")\n",
        "    shutil.make_archive(ARCHIVE_NAME, 'zip', SOURCE_DIR_TO_PACKAGE)\n",
        "    print(\"✅ 打包成功！\")\n",
        "\n",
        "    # --- 4. 挂载谷歌硬盘 ---\n",
        "    print(\"\\n正在连接到您的谷歌硬盘...\")\n",
        "    drive.mount('/content/drive')\n",
        "\n",
        "    # --- 5. 在谷歌硬盘中创建目标文件夹 (如果不存在) ---\n",
        "    if not os.path.exists(DRIVE_FOLDER_PATH):\n",
        "        print(f\"在您的谷歌硬盘中创建新文件夹: {DRIVE_FOLDER_PATH}\")\n",
        "        os.makedirs(DRIVE_FOLDER_PATH)\n",
        "\n",
        "    # --- 6. 复制打包好的文件到谷歌硬盘 ---\n",
        "    source_file_path = f\"{ARCHIVE_NAME}.zip\"\n",
        "    destination_path = os.path.join(DRIVE_FOLDER_PATH, source_file_path)\n",
        "\n",
        "    print(f\"\\n正在复制文件到: {destination_path}...\")\n",
        "    if os.path.exists(source_file_path):\n",
        "        shutil.copy(source_file_path, destination_path)\n",
        "        print(f\"\\n--- 🎯 操作成功！---\")\n",
        "        print(f\"开发数据集 '{source_file_path}' 已成功保存到您的谷歌硬盘中！\")\n",
        "        print(\"后续您可以直接从谷歌硬盘中下载并解压这个文件，无需再重复下载原始数据。\")\n",
        "    else:\n",
        "        print(f\"❌ 错误: 未找到打包好的文件 '{source_file_path}'。\")\n",
        "\n"
      ],
      "metadata": {
        "id": "4tVAUmQGC8qX",
        "outputId": "100b809f-6011-499e-e683-6b4c082f89e4",
        "colab": {
          "base_uri": "https://localhost:8080/"
        }
      },
      "execution_count": null,
      "outputs": [
        {
          "output_type": "stream",
          "name": "stdout",
          "text": [
            "正在将 'dev_test_data_subset' 打包成 'dev_test_data_subset_archive.zip'...\n",
            "✅ 打包成功！\n",
            "\n",
            "正在连接到您的谷歌硬盘...\n",
            "Drive already mounted at /content/drive; to attempt to forcibly remount, call drive.mount(\"/content/drive\", force_remount=True).\n",
            "在您的谷歌硬盘中创建新文件夹: /content/drive/MyDrive/Sign_Language_Project_Dev_Data\n",
            "\n",
            "正在复制文件到: /content/drive/MyDrive/Sign_Language_Project_Dev_Data/dev_test_data_subset_archive.zip...\n",
            "\n",
            "--- 🎯 操作成功！---\n",
            "开发数据集 'dev_test_data_subset_archive.zip' 已成功保存到您的谷歌硬盘中！\n",
            "后续您可以直接从谷歌硬盘中下载并解压这个文件，无需再重复下载原始数据。\n"
          ]
        }
      ]
    }
  ]
}