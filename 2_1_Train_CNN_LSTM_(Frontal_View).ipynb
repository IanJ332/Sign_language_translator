{
  "nbformat": 4,
  "nbformat_minor": 0,
  "metadata": {
    "colab": {
      "provenance": [],
      "machine_shape": "hm"
    },
    "kernelspec": {
      "name": "python3",
      "display_name": "Python 3"
    },
    "language_info": {
      "name": "python"
    }
  },
  "cells": [
    {
      "cell_type": "code",
      "source": [
        "from google.colab import drive\n",
        "import zipfile\n",
        "import os\n",
        "\n",
        "# 1. 挂载 Google Drive\n",
        "print(\"Mounting Google Drive...\")\n",
        "drive.mount('/content/drive')\n",
        "print(\"Google Drive mounted successfully.\")\n",
        "\n",
        "# 2. 定义路径\n",
        "base_drive_path = '/content/drive/MyDrive/train-CNN+LSTM+BO'\n",
        "train_zip_path = os.path.join(base_drive_path, 'train_rgb_front_clips.zip')\n",
        "\n",
        "# 我们在Drive上创建一个新的文件夹来存放所有解压后的视频\n",
        "# 注意：解压后的视频本身就包含在一个名为 'raw_videos' 的文件夹里\n",
        "train_extract_path = os.path.join(base_drive_path, 'extracted_frontal_videos/train')\n",
        "\n",
        "# 3. 创建目标文件夹并解压\n",
        "os.makedirs(train_extract_path, exist_ok=True)\n",
        "print(f\"Destination folder created at: {train_extract_path}\")\n",
        "\n",
        "print(f\"\\nExtracting {train_zip_path} to {train_extract_path}...\")\n",
        "print(\"This will be very slow, please be patient...\")\n",
        "with zipfile.ZipFile(train_zip_path, 'r') as zip_ref:\n",
        "    zip_ref.extractall(train_extract_path)\n",
        "print(\"Train set extraction complete.\")"
      ],
      "metadata": {
        "colab": {
          "base_uri": "https://localhost:8080/"
        },
        "id": "suvDvPP_ppfJ",
        "outputId": "10408ef8-f7e4-46cb-988b-7541af5c594f"
      },
      "execution_count": null,
      "outputs": [
        {
          "output_type": "stream",
          "name": "stdout",
          "text": [
            "Mounting Google Drive...\n",
            "Drive already mounted at /content/drive; to attempt to forcibly remount, call drive.mount(\"/content/drive\", force_remount=True).\n",
            "Google Drive mounted successfully.\n",
            "Destination folder created at: /content/drive/MyDrive/train-CNN+LSTM+BO/extracted_frontal_videos/train\n",
            "\n",
            "Extracting /content/drive/MyDrive/train-CNN+LSTM+BO/train_rgb_front_clips.zip to /content/drive/MyDrive/train-CNN+LSTM+BO/extracted_frontal_videos/train...\n",
            "This will be very slow, please be patient...\n",
            "Train set extraction complete.\n"
          ]
        }
      ]
    },
    {
      "cell_type": "code",
      "source": [
        "import zipfile\n",
        "import os\n",
        "# Drive已在上一单元格挂载\n",
        "\n",
        "# 1. 定义路径\n",
        "base_drive_path = '/content/drive/MyDrive/train-CNN+LSTM+BO'\n",
        "val_zip_path = os.path.join(base_drive_path, 'val_rgb_front_clips.zip')\n",
        "val_extract_path = os.path.join(base_drive_path, 'extracted_frontal_videos/val')\n",
        "\n",
        "# 2. 创建目标文件夹并解压\n",
        "os.makedirs(val_extract_path, exist_ok=True)\n",
        "print(f\"Destination folder created at: {val_extract_path}\")\n",
        "\n",
        "print(f\"\\nExtracting {val_zip_path} to {val_extract_path}...\")\n",
        "print(\"This will also be slow...\")\n",
        "with zipfile.ZipFile(val_zip_path, 'r') as zip_ref:\n",
        "    zip_ref.extractall(val_extract_path)\n",
        "print(\"Validation set extraction complete.\")\n",
        "\n",
        "print(\"\\n--- Data Preparation Phase Complete ---\")\n",
        "print(\"You can now close this notebook and start the Model Training Phase.\")"
      ],
      "metadata": {
        "colab": {
          "base_uri": "https://localhost:8080/"
        },
        "id": "J4F5CVitxXow",
        "outputId": "260a749e-cb54-4988-f682-b6ebbee15752"
      },
      "execution_count": null,
      "outputs": [
        {
          "output_type": "stream",
          "name": "stdout",
          "text": [
            "Destination folder created at: /content/drive/MyDrive/train-CNN+LSTM+BO/extracted_frontal_videos/val\n",
            "\n",
            "Extracting /content/drive/MyDrive/train-CNN+LSTM+BO/val_rgb_front_clips.zip to /content/drive/MyDrive/train-CNN+LSTM+BO/extracted_frontal_videos/val...\n",
            "This will also be slow...\n",
            "Validation set extraction complete.\n",
            "\n",
            "--- Data Preparation Phase Complete ---\n",
            "You can now close this notebook and start the Model Training Phase.\n"
          ]
        }
      ]
    }
  ]
}